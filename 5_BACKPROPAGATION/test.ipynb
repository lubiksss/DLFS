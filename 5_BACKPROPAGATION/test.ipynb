{
 "cells": [
  {
   "cell_type": "code",
   "execution_count": 1,
   "id": "e046c0a8",
   "metadata": {},
   "outputs": [],
   "source": [
    "import numpy as np\n",
    "from twoLayerNet import *\n",
    "from mnist import load_mnist\n",
    "from tqdm import tqdm\n",
    "from matplotlib import pyplot as plt"
   ]
  },
  {
   "cell_type": "code",
   "execution_count": 2,
   "id": "577a0e23",
   "metadata": {},
   "outputs": [
    {
     "name": "stderr",
     "output_type": "stream",
     "text": [
      "100%|█████████████████████████████████████████| 100000/100000 [02:24<00:00, 691.81it/s]\n"
     ]
    }
   ],
   "source": [
    "(x_train, t_train), (x_test, t_test) = load_mnist(normalize=True, one_hot_label=True)\n",
    "\n",
    "network = TwoLayerNet(input_size=784,hidden_size=50,output_size=10)\n",
    "\n",
    "iters_num=100000\n",
    "train_size = x_train.shape[0]\n",
    "batch_size = 100\n",
    "learning_rate = 0.1\n",
    "\n",
    "train_loss_list = []\n",
    "train_acc_list = []\n",
    "test_acc_list = []\n",
    "\n",
    "iter_per_epoch = max(train_size/batch_size,1)\n",
    "\n",
    "for i in tqdm(range(iters_num)):\n",
    "    batch_mask = np.random.choice(train_size, batch_size)\n",
    "    x_batch = x_train[batch_mask]\n",
    "    t_batch = t_train[batch_mask]\n",
    "\n",
    "    grad = network.gradient(x_batch, t_batch)\n",
    "\n",
    "    for key in ('W1', 'b1', 'W2', 'b2'):\n",
    "        network.params[key] -= learning_rate*grad[key]\n",
    "    \n",
    "    loss = network.loss(x_batch, t_batch)\n",
    "    train_loss_list.append(loss)\n",
    "\n",
    "    if i % iter_per_epoch == 0:\n",
    "        train_acc = network.accuracy(x_train, t_train)\n",
    "        test_acc = network.accuracy(x_test,t_test)\n",
    "        train_acc_list.append(train_acc)\n",
    "        test_acc_list.append(test_acc)"
   ]
  },
  {
   "cell_type": "code",
   "execution_count": 4,
   "id": "ffb5def1",
   "metadata": {
    "scrolled": true
   },
   "outputs": [
    {
     "data": {
      "text/plain": [
       "[<matplotlib.lines.Line2D at 0x255a7ca3790>]"
      ]
     },
     "execution_count": 4,
     "metadata": {},
     "output_type": "execute_result"
    },
    {
     "data": {
      "image/png": "[encoded data removed]",
      "text/plain": [
       "<Figure size 432x288 with 1 Axes>"
      ]
     },
     "metadata": {
      "needs_background": "light"
     },
     "output_type": "display_data"
    }
   ],
   "source": [
    "plt.plot(range(100000),train_loss_list)"
   ]
  },
  {
   "cell_type": "code",
   "execution_count": 6,
   "id": "5fdff938",
   "metadata": {},
   "outputs": [
    {
     "data": {
      "text/plain": [
       "[<matplotlib.lines.Line2D at 0x255a82159d0>]"
      ]
     },
     "execution_count": 6,
     "metadata": {},
     "output_type": "execute_result"
    },
    {
     "data": {
      "image/png": "[encoded data removed]",
      "text/plain": [
       "<Figure size 432x288 with 1 Axes>"
      ]
     },
     "metadata": {
      "needs_background": "light"
     },
     "output_type": "display_data"
    }
   ],
   "source": [
    "plt.plot(range(167),train_acc_list)"
   ]
  },
  {
   "cell_type": "code",
   "execution_count": 7,
   "id": "bc16ff2d",
   "metadata": {},
   "outputs": [
    {
     "data": {
      "image/png": "[encoded data removed]",
      "text/plain": [
       "<Figure size 432x288 with 1 Axes>"
      ]
     },
     "metadata": {
      "needs_background": "light"
     },
     "output_type": "display_data"
    },
    {
     "name": "stdout",
     "output_type": "stream",
     "text": [
      "[0.0798, 0.9071, 0.9263, 0.938, 0.9405, 0.9499, 0.9518, 0.956, 0.957, 0.96, 0.9635, 0.9642, 0.9643, 0.9664, 0.9665, 0.9669, 0.9691, 0.9672, 0.9687, 0.9686, 0.9687, 0.9692, 0.9718, 0.9712, 0.9715, 0.9718, 0.9717, 0.9715, 0.972, 0.972, 0.9713, 0.9709, 0.9717, 0.9712, 0.9719, 0.9733, 0.9738, 0.9733, 0.9729, 0.9729, 0.973, 0.9739, 0.9735, 0.9733, 0.9738, 0.9731, 0.9709, 0.9731, 0.9733, 0.9737, 0.9727, 0.9743, 0.9728, 0.9735, 0.9732, 0.9731, 0.973, 0.9733, 0.9739, 0.9736, 0.9734, 0.973, 0.9735, 0.9739, 0.9735, 0.9734, 0.9728, 0.974, 0.9738, 0.9746, 0.9742, 0.9742, 0.9749, 0.9747, 0.9749, 0.9736, 0.9741, 0.9739, 0.9733, 0.9751, 0.9746, 0.9743, 0.9743, 0.975, 0.9744, 0.9741, 0.9735, 0.9731, 0.974, 0.9734, 0.9736, 0.9743, 0.9738, 0.9741, 0.9741, 0.9738, 0.9737, 0.9745, 0.9743, 0.9743, 0.9744, 0.9744, 0.9739, 0.974, 0.9742, 0.9734, 0.9739, 0.9747, 0.9746, 0.9738, 0.9741, 0.9739, 0.9745, 0.975, 0.974, 0.9739, 0.9744, 0.974, 0.9741, 0.9742, 0.9733, 0.9747, 0.9734, 0.9738, 0.9735, 0.9741, 0.9737, 0.9742, 0.9744, 0.9743, 0.9744, 0.9745, 0.9739, 0.9745, 0.9741, 0.9744, 0.9733, 0.974, 0.9739, 0.9747, 0.9738, 0.9745, 0.9738, 0.9737, 0.9744, 0.9742, 0.9741, 0.9738, 0.974, 0.9738, 0.9743, 0.9731, 0.9747, 0.9738, 0.9744, 0.9741, 0.9742, 0.974, 0.974, 0.9741, 0.9731, 0.9735, 0.9744, 0.9735, 0.9735, 0.9742, 0.9733]\n"
     ]
    }
   ],
   "source": [
    "plt.plot(range(167),test_acc_list)\n",
    "plt.show()\n",
    "print(test_acc_list)"
   ]
  },
  {
   "cell_type": "code",
   "execution_count": null,
   "id": "e9c7310d",
   "metadata": {},
   "outputs": [],
   "source": []
  }
 ],
 "metadata": {
  "kernelspec": {
   "display_name": "Python 3",
   "language": "python",
   "name": "python3"
  },
  "language_info": {
   "codemirror_mode": {
    "name": "ipython",
    "version": 3
   },
   "file_extension": ".py",
   "mimetype": "text/x-python",
   "name": "python",
   "nbconvert_exporter": "python",
   "pygments_lexer": "ipython3",
   "version": "3.8.8"
  }
 },
 "nbformat": 4,
 "nbformat_minor": 5
}
