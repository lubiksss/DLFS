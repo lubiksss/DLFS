{
 "cells": [
  {
   "cell_type": "code",
   "execution_count": 1,
   "id": "e046c0a8",
   "metadata": {},
   "outputs": [],
   "source": [
    "import numpy as np\n",
    "from twoLayerNet import *\n",
    "from mnist import load_mnist\n",
    "from tqdm import tqdm\n",
    "from matplotlib import pyplot as plt"
   ]
  },
  {
   "cell_type": "code",
   "execution_count": 2,
   "id": "623ebb10",
   "metadata": {},
   "outputs": [],
   "source": [
    "class SGD:\n",
    "    def __init__(self, lr =0.01):\n",
    "        self.lr = lr\n",
    "\n",
    "    def update(self,params, grads):\n",
    "        for key in params.keys():\n",
    "            params[key]-= self.lr*grads[key]"
   ]
  },
  {
   "cell_type": "code",
   "execution_count": 3,
   "id": "3493b5b6",
   "metadata": {},
   "outputs": [],
   "source": [
    "class Momentum:\n",
    "    def __init__(self, lr = 0.01, momentum=0.9):\n",
    "        self.lr = lr\n",
    "        self.momentum = momentum\n",
    "        self.v = None\n",
    "    \n",
    "    def update(self,params, grads):\n",
    "        if self.v is None:\n",
    "            self.v = {}\n",
    "            for key, val in params.items():\n",
    "                self.v[key] = np.zeros_like(val)\n",
    "                \n",
    "        for key in params.keys():\n",
    "            self.v[key] = self.momentum*self.v[key] - self.lr*grads[key]\n",
    "            params[key] += self.v[key]"
   ]
  },
  {
   "cell_type": "code",
   "execution_count": 4,
   "id": "3c9a3e93",
   "metadata": {},
   "outputs": [],
   "source": [
    "opsgd = SGD()\n",
    "opmomentum= Momentum()"
   ]
  },
  {
   "cell_type": "code",
   "execution_count": 5,
   "id": "815f1608",
   "metadata": {},
   "outputs": [],
   "source": [
    "optimizer_list = [opsgd, opmomentum]"
   ]
  },
  {
   "cell_type": "code",
   "execution_count": 6,
   "id": "577a0e23",
   "metadata": {},
   "outputs": [
    {
     "name": "stderr",
     "output_type": "stream",
     "text": [
      "100%|███████████████████████████████████████████████████████████████████████████| 10000/10000 [00:10<00:00, 918.56it/s]\n",
      "100%|███████████████████████████████████████████████████████████████████████████| 10000/10000 [00:11<00:00, 834.13it/s]\n"
     ]
    },
    {
     "data": {
      "image/png": "[encoded data removed]",
      "text/plain": [
       "<Figure size 432x288 with 1 Axes>"
      ]
     },
     "metadata": {
      "needs_background": "light"
     },
     "output_type": "display_data"
    }
   ],
   "source": [
    "for k in range(len(optimizer_list)):\n",
    "    (x_train, t_train), (x_test, t_test) = load_mnist(normalize=True, one_hot_label=True)\n",
    "\n",
    "    network = TwoLayerNet(input_size=784,hidden_size=50,output_size=10)\n",
    "    \n",
    "    # iters_num=100000\n",
    "    iters_num=10000\n",
    "    train_size = x_train.shape[0]\n",
    "    batch_size = 100\n",
    "    learning_rate = 0.1\n",
    "\n",
    "    train_loss_list = []\n",
    "    train_acc_list = []\n",
    "    test_acc_list = []\n",
    "\n",
    "    iter_per_epoch = max(train_size/batch_size,1)\n",
    "\n",
    "    for i in tqdm(range(iters_num)):\n",
    "        batch_mask = np.random.choice(train_size, batch_size)\n",
    "        x_batch = x_train[batch_mask]\n",
    "        t_batch = t_train[batch_mask]\n",
    "\n",
    "        grad = network.gradient(x_batch, t_batch)\n",
    "        optimizer_list[k].update(network.params, grad)\n",
    "\n",
    "        loss = network.loss(x_batch, t_batch)\n",
    "        train_loss_list.append(loss)\n",
    "\n",
    "        if i % iter_per_epoch == 0:\n",
    "            train_acc = network.accuracy(x_train, t_train)\n",
    "            test_acc = network.accuracy(x_test,t_test)\n",
    "            train_acc_list.append(train_acc)\n",
    "            test_acc_list.append(test_acc)\n",
    "            \n",
    "    plt.plot(range(10000),train_loss_list, label=k)\n",
    "    plt.legend()\n"
   ]
  },
  {
   "cell_type": "code",
   "execution_count": 7,
   "id": "e9c7310d",
   "metadata": {},
   "outputs": [],
   "source": [
    "plt.show()"
   ]
  }
 ],
 "metadata": {
  "kernelspec": {
   "display_name": "Python 3",
   "language": "python",
   "name": "python3"
  },
  "language_info": {
   "codemirror_mode": {
    "name": "ipython",
    "version": 3
   },
   "file_extension": ".py",
   "mimetype": "text/x-python",
   "name": "python",
   "nbconvert_exporter": "python",
   "pygments_lexer": "ipython3",
   "version": "3.8.8"
  }
 },
 "nbformat": 4,
 "nbformat_minor": 5
}
