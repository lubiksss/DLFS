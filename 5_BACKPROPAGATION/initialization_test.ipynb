{
 "cells": [
  {
   "cell_type": "code",
   "execution_count": 1,
   "id": "e046c0a8",
   "metadata": {},
   "outputs": [],
   "source": [
    "import numpy as np\n",
    "from twoLayerNet import *\n",
    "from mnist import load_mnist\n",
    "from tqdm import tqdm\n",
    "from matplotlib import pyplot as plt"
   ]
  },
  {
   "cell_type": "code",
   "execution_count": 2,
   "id": "623ebb10",
   "metadata": {},
   "outputs": [],
   "source": [
    "class SGD:\n",
    "    def __init__(self, lr =0.01):\n",
    "        self.lr = lr\n",
    "\n",
    "    def update(self,params, grads):\n",
    "        for key in params.keys():\n",
    "            params[key]-= self.lr*grads[key]"
   ]
  },
  {
   "cell_type": "code",
   "execution_count": 3,
   "id": "d590c859",
   "metadata": {},
   "outputs": [],
   "source": [
    "initialization_list = [0.01, 1/np.sqrt(50), np.sqrt(2)/np.sqrt(50)]"
   ]
  },
  {
   "cell_type": "code",
   "execution_count": 4,
   "id": "577a0e23",
   "metadata": {
    "scrolled": true
   },
   "outputs": [
    {
     "name": "stderr",
     "output_type": "stream",
     "text": [
      "100%|███████████████████████████████████████████████████████████████████████████| 10000/10000 [00:11<00:00, 867.79it/s]\n",
      "100%|███████████████████████████████████████████████████████████████████████████| 10000/10000 [00:11<00:00, 888.60it/s]\n",
      "100%|███████████████████████████████████████████████████████████████████████████| 10000/10000 [00:11<00:00, 890.86it/s]\n"
     ]
    },
    {
     "data": {
      "image/png": "[encoded data removed]",
      "text/plain": [
       "<Figure size 432x288 with 1 Axes>"
      ]
     },
     "metadata": {
      "needs_background": "light"
     },
     "output_type": "display_data"
    }
   ],
   "source": [
    "for k in range(len(initialization_list)):\n",
    "    (x_train, t_train), (x_test, t_test) = load_mnist(normalize=True, one_hot_label=True)\n",
    "\n",
    "    network = TwoLayerNet(input_size=784,hidden_size=50,output_size=10, weight_init_std=initialization_list[k])\n",
    "    optimizer = SGD()\n",
    "    \n",
    "    # iters_num=100000\n",
    "    iters_num=10000\n",
    "    train_size = x_train.shape[0]\n",
    "    batch_size = 100\n",
    "    learning_rate = 0.1\n",
    "\n",
    "    train_loss_list = []\n",
    "    train_acc_list = []\n",
    "    test_acc_list = []\n",
    "\n",
    "    iter_per_epoch = max(train_size/batch_size,1)\n",
    "\n",
    "    for i in tqdm(range(iters_num)):\n",
    "        batch_mask = np.random.choice(train_size, batch_size)\n",
    "        x_batch = x_train[batch_mask]\n",
    "        t_batch = t_train[batch_mask]\n",
    "\n",
    "        grad = network.gradient(x_batch, t_batch)\n",
    "        optimizer.update(network.params, grad)\n",
    "\n",
    "        loss = network.loss(x_batch, t_batch)\n",
    "        train_loss_list.append(loss)\n",
    "\n",
    "        if i % iter_per_epoch == 0:\n",
    "            train_acc = network.accuracy(x_train, t_train)\n",
    "            test_acc = network.accuracy(x_test,t_test)\n",
    "            train_acc_list.append(train_acc)\n",
    "            test_acc_list.append(test_acc)\n",
    "            \n",
    "    plt.plot(range(10000),train_loss_list, label=k)\n",
    "    plt.legend()\n"
   ]
  },
  {
   "cell_type": "code",
   "execution_count": 5,
   "id": "e9c7310d",
   "metadata": {},
   "outputs": [],
   "source": [
    "plt.show()"
   ]
  }
 ],
 "metadata": {
  "kernelspec": {
   "display_name": "Python 3",
   "language": "python",
   "name": "python3"
  },
  "language_info": {
   "codemirror_mode": {
    "name": "ipython",
    "version": 3
   },
   "file_extension": ".py",
   "mimetype": "text/x-python",
   "name": "python",
   "nbconvert_exporter": "python",
   "pygments_lexer": "ipython3",
   "version": "3.8.8"
  }
 },
 "nbformat": 4,
 "nbformat_minor": 5
}
